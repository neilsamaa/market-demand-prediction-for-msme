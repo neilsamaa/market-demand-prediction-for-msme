{
 "cells": [
  {
   "cell_type": "code",
   "execution_count": 2,
   "metadata": {},
   "outputs": [
    {
     "name": "stderr",
     "output_type": "stream",
     "text": [
      "/Users/rairamones/anaconda3/lib/python3.11/site-packages/statsmodels/tsa/base/tsa_model.py:473: ValueWarning: No frequency information was provided, so inferred frequency D will be used.\n",
      "  self._init_dates(dates, freq)\n",
      "/Users/rairamones/anaconda3/lib/python3.11/site-packages/statsmodels/tsa/base/tsa_model.py:473: ValueWarning: No frequency information was provided, so inferred frequency D will be used.\n",
      "  self._init_dates(dates, freq)\n",
      "/Users/rairamones/anaconda3/lib/python3.11/site-packages/statsmodels/tsa/base/tsa_model.py:473: ValueWarning: No frequency information was provided, so inferred frequency D will be used.\n",
      "  self._init_dates(dates, freq)\n"
     ]
    },
    {
     "name": "stdout",
     "output_type": "stream",
     "text": [
      "Mean Squared Error (MSE): 966.4464507117992\n",
      "Root Mean Squared Error (RMSE): 31.087721864295546\n",
      "Mean Absolute Error (MAE): 26.710531873627925\n",
      "Mean Absolute Percentage Error (MAPE): 233.13%\n",
      "Model saved as model.pkl\n"
     ]
    }
   ],
   "source": [
    "import pandas as pd\n",
    "from statsmodels.tsa.arima.model import ARIMA\n",
    "import numpy as np\n",
    "import pickle\n",
    "from sklearn.metrics import mean_squared_error, mean_absolute_error\n",
    "\n",
    "# Load the dataset\n",
    "df3 = pd.read_csv('datasetv3.csv')\n",
    "\n",
    "# Prepare the dataset\n",
    "df3['Tanggal Penjualan'] = pd.to_datetime(df3['Tanggal Penjualan'])\n",
    "df3.set_index('Tanggal Penjualan', inplace=True)\n",
    "df3.sort_index(inplace=True)\n",
    "\n",
    "# Define the predictor variables and target variable\n",
    "predictors = ['Harga Min (Rp)', 'Harga Max (Rp)', 'Harga Modal (Rp)']\n",
    "target = 'Penjualan'\n",
    "\n",
    "# Split the dataset into training and testing sets\n",
    "train_size = int(len(df3) * 0.8)\n",
    "train, test = df3.iloc[:train_size], df3.iloc[train_size:]\n",
    "\n",
    "# Train the ARIMA model\n",
    "model = ARIMA(train[target], order=(5,1,0), exog=train[predictors])\n",
    "model_fit = model.fit()\n",
    "\n",
    "# Evaluate the model on the testing set\n",
    "predictions = model_fit.forecast(steps=len(test), exog=test[predictors])\n",
    "mse = mean_squared_error(test[target], predictions)\n",
    "rmse = np.sqrt(mse)\n",
    "mae = mean_absolute_error(test[target], predictions)\n",
    "mape = np.mean(np.abs((test[target] - predictions) / test[target])) * 100\n",
    "\n",
    "print(f'Mean Squared Error (MSE): {mse}')\n",
    "print(f'Root Mean Squared Error (RMSE): {rmse}')\n",
    "print(f'Mean Absolute Error (MAE): {mae}')\n",
    "print(f'Mean Absolute Percentage Error (MAPE): {mape:.2f}%')\n",
    "\n",
    "# Save the model to a file\n",
    "with open('model.pkl', 'wb') as f:\n",
    "    pickle.dump(model_fit, f)\n",
    "\n",
    "print(\"Model saved as model.pkl\")"
   ]
  }
 ],
 "metadata": {
  "kernelspec": {
   "display_name": "base",
   "language": "python",
   "name": "python3"
  },
  "language_info": {
   "codemirror_mode": {
    "name": "ipython",
    "version": 3
   },
   "file_extension": ".py",
   "mimetype": "text/x-python",
   "name": "python",
   "nbconvert_exporter": "python",
   "pygments_lexer": "ipython3",
   "version": "3.11.4"
  }
 },
 "nbformat": 4,
 "nbformat_minor": 2
}
